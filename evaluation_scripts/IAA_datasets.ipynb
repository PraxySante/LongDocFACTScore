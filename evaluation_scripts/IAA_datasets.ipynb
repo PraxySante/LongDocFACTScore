{
 "cells": [
  {
   "cell_type": "code",
   "execution_count": null,
   "id": "a36cefc8-2cf4-4b30-9016-b5f366e41a6f",
   "metadata": {},
   "outputs": [],
   "source": [
    "import pandas as pd\n",
    "from utils.correlations import krippendorff_alpha, interval_metric, nominal_metric\n",
    "import numpy as np"
   ]
  },
  {
   "cell_type": "code",
   "execution_count": null,
   "id": "fa32366c-6b8c-44a7-9b7e-fa260a435bd8",
   "metadata": {},
   "outputs": [],
   "source": [
    "def calculate_inter_annotator_agreement_factuality_krippendorff_finegrained_longsciverify(data_frames):\n",
    "    model_nums = [\"1\", \"2\", \"3\"]\n",
    "    sent_nums = [\"1\", \"2\", \"3\"]\n",
    "    all_scores = []\n",
    "    for df in data_frames:\n",
    "        annotator_scores = []\n",
    "        for model_num in model_nums:\n",
    "            for idx, row in df.iterrows():\n",
    "                av_over_sents = []\n",
    "                for sent_num in sent_nums:\n",
    "                    score = row[f\"model_{model_num}_sent_{sent_num}_factuality\"]\n",
    "                    if not np.isnan(score):\n",
    "                        annotator_scores.append(score)\n",
    "        all_scores.append(annotator_scores)\n",
    "    return krippendorff_alpha(all_scores, nominal_metric)\n",
    "\n",
    "def calculate_inter_annotator_agreement_factuality_krippendorff_aggregated_longsciverify(data_frames):\n",
    "    model_nums = [\"1\", \"2\", \"3\"]\n",
    "    sent_nums = [\"1\", \"2\", \"3\"]\n",
    "    all_scores = []\n",
    "    for df in data_frames:\n",
    "        annotator_scores = []\n",
    "        for model_num in model_nums:\n",
    "            for idx, row in df.iterrows():\n",
    "                article_scores_array = []\n",
    "                for sent_num in sent_nums:\n",
    "                    score = row[f\"model_{model_num}_sent_{sent_num}_factuality\"]\n",
    "                    if not np.isnan(score):\n",
    "                        article_scores_array.append(score)\n",
    "                av_over_sents = np.mean(article_scores_array)\n",
    "                annotator_scores.append(av_over_sents)\n",
    "        all_scores.append(annotator_scores)\n",
    "    return krippendorff_alpha(all_scores, interval_metric), all_scores"
   ]
  },
  {
   "cell_type": "markdown",
   "id": "b644b9cf-f848-4541-b7f9-ab5b9604b61d",
   "metadata": {},
   "source": [
    "### LongSciVerify PubMed IAA"
   ]
  },
  {
   "cell_type": "code",
   "execution_count": null,
   "id": "43065b75-7802-4975-8d39-51f61aec863d",
   "metadata": {},
   "outputs": [],
   "source": [
    "df_1 = pd.read_csv(\"../data/human_eval_results/LongSciVerify/pubmed_reviewer_1.csv\")\n",
    "df_2 = pd.read_csv(\"../data/human_eval_results/LongSciVerify/pubmed_reviewer_2.csv\")\n",
    "df_3 = pd.read_csv(\"../data/human_eval_results/LongSciVerify/pubmed_reviewer_3.csv\")\n",
    "raw_path = \"./data/raw_data/LongSciVerify/pubmed_test.json\""
   ]
  },
  {
   "cell_type": "code",
   "execution_count": null,
   "id": "ae6f4f7a-40b3-4a42-a2c8-0c3ce853f041",
   "metadata": {},
   "outputs": [],
   "source": [
    "k = calculate_inter_annotator_agreement_factuality_krippendorff_finegrained_longsciverify([df_1,df_2,df_3])\n",
    "print(f\"Fine-grained IAA of Pubmed LongSciVerify data set {k}\")\n",
    "k, all_scores = calculate_inter_annotator_agreement_factuality_krippendorff_aggregated_longsciverify([df_1,df_2,df_3])\n",
    "print(f\"Summary-level IAA of Pubmed LongSciVerify data set {k}\")"
   ]
  },
  {
   "cell_type": "markdown",
   "id": "7c752c49",
   "metadata": {},
   "source": [
    "### LongSciVerify ArXiv IAA"
   ]
  },
  {
   "cell_type": "code",
   "execution_count": null,
   "id": "8309bc8b-29b3-47a9-b8b6-e67f1b3b6a87",
   "metadata": {},
   "outputs": [],
   "source": [
    "df_1 = pd.read_csv(\"../data/human_eval_results/LongSciVerify/arxiv_reviewer_1.csv\")\n",
    "df_2 = pd.read_csv(\"../data/human_eval_results/LongSciVerify/arxiv_reviewer_2.csv\")\n",
    "df_3 = pd.read_csv(\"../data/human_eval_results/LongSciVerify/arxiv_reviewer_3.csv\")"
   ]
  },
  {
   "cell_type": "code",
   "execution_count": null,
   "id": "44fc8a18-0e91-45a9-8f94-780e6807442b",
   "metadata": {},
   "outputs": [],
   "source": [
    "k = calculate_inter_annotator_agreement_factuality_krippendorff_finegrained_longsciverify([df_1,df_2,df_3])\n",
    "print(f\"Fine-grained IAA of ArXiv LongSciVerify data set {k}\")\n",
    "k, all_scores = calculate_inter_annotator_agreement_factuality_krippendorff_aggregated_longsciverify([df_1,df_2,df_3])\n",
    "print(f\"Summary-level IAA of ArXiv LongSciVerify data set {k}\")"
   ]
  },
  {
   "cell_type": "markdown",
   "id": "4bb28013",
   "metadata": {},
   "source": [
    "### LongEval PubMed IAA"
   ]
  },
  {
   "cell_type": "code",
   "execution_count": null,
   "id": "82bc676b-fc5f-474f-9a3e-207fa77f67e2",
   "metadata": {},
   "outputs": [],
   "source": [
    "import json\n",
    "with open('../data/human_eval_results/LongEval/pubmed_fine_scores.json','r') as f:\n",
    "    longeval = json.load(f)"
   ]
  },
  {
   "cell_type": "code",
   "execution_count": null,
   "id": "3e8ad03a-d74b-4465-b6f2-1986daa2ac6f",
   "metadata": {},
   "outputs": [],
   "source": [
    "all_scores = []\n",
    "for reviewer_idx in range(3):\n",
    "    scores = []\n",
    "    for model_eval in longeval:\n",
    "        scores.append(model_eval['score'][reviewer_idx])\n",
    "    all_scores.append(scores)"
   ]
  },
  {
   "cell_type": "code",
   "execution_count": null,
   "id": "9b4cd8fd-6711-4453-a69a-899282ce3793",
   "metadata": {},
   "outputs": [],
   "source": [
    "k = krippendorff_alpha(all_scores, interval_metric)\n",
    "print(f\"Summary-level IAA of PubMed LongEval data set {k}\")"
   ]
  }
 ],
 "metadata": {
  "kernelspec": {
   "display_name": "Python 3 (ipykernel)",
   "language": "python",
   "name": "python3"
  },
  "language_info": {
   "codemirror_mode": {
    "name": "ipython",
    "version": 3
   },
   "file_extension": ".py",
   "mimetype": "text/x-python",
   "name": "python",
   "nbconvert_exporter": "python",
   "pygments_lexer": "ipython3",
   "version": "3.8.16"
  }
 },
 "nbformat": 4,
 "nbformat_minor": 5
}
